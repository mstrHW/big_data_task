{
 "cells": [
  {
   "cell_type": "markdown",
   "metadata": {},
   "source": [
    "<h3>Define dataset path</h3>"
   ]
  },
  {
   "cell_type": "code",
   "execution_count": 2,
   "metadata": {},
   "outputs": [],
   "source": [
    "import os\n",
    "\n",
    "big_data_dir = 'D://Datasets/bigdata20/bigdata20'\n",
    "followers = os.path.join(big_data_dir, 'followers.parquet')\n",
    "followers_posts = os.path.join(big_data_dir, 'followers_posts_api_final.json')\n",
    "followers_posts_likes = os.path.join(big_data_dir, 'followers_posts_likes.parquet')\n",
    "posts = os.path.join(big_data_dir, 'posts_api.json')\n",
    "posts_likes = os.path.join(big_data_dir, 'posts_likes.parquet')"
   ]
  },
  {
   "cell_type": "markdown",
   "metadata": {},
   "source": [
    "<h3>Spark initialization</h3>"
   ]
  },
  {
   "cell_type": "code",
   "execution_count": 3,
   "metadata": {},
   "outputs": [],
   "source": [
    "import pyspark\n",
    "from pyspark import SparkContext, SparkConf\n",
    "from pyspark.sql import SparkSession, SQLContext\n",
    "\n",
    "conf = SparkConf().setAppName('appName').setMaster('local')\n",
    "sc = SparkContext(conf=conf)\n",
    "spark = SparkSession(sc)\n",
    "sqlContext = SQLContext(sc)"
   ]
  },
  {
   "cell_type": "code",
   "execution_count": 4,
   "metadata": {},
   "outputs": [],
   "source": [
    "from pyspark.sql.functions import col, isnan, when, trim, sort_array, explode"
   ]
  },
  {
   "cell_type": "markdown",
   "metadata": {},
   "source": [
    "<h3>Load dataset</h3>"
   ]
  },
  {
   "cell_type": "code",
   "execution_count": 5,
   "metadata": {},
   "outputs": [
    {
     "name": "stdout",
     "output_type": "stream",
     "text": [
      "root\n",
      " |-- profile: integer (nullable = true)\n",
      " |-- follower: integer (nullable = true)\n",
      "\n",
      "+-------+-----+\n",
      "|profile|count|\n",
      "+-------+-----+\n",
      "|    -94|43988|\n",
      "+-------+-----+\n",
      "\n"
     ]
    }
   ],
   "source": [
    "followers_df = spark.read.load(followers)\n",
    "followers_df.printSchema()\n",
    "followers_df.groupby('profile').count().show()"
   ]
  },
  {
   "cell_type": "code",
   "execution_count": 6,
   "metadata": {},
   "outputs": [
    {
     "data": {
      "text/plain": [
       "DataFrame[summary: string, date: string, from_id: string, id: string, key: string, marked_as_ads: string, owner_id: string, post_type: string, signer_id: string, text: string, unavailable: string]"
      ]
     },
     "execution_count": 6,
     "metadata": {},
     "output_type": "execute_result"
    }
   ],
   "source": [
    "posts_df = sqlContext.read.json(posts)\n",
    "posts_df.describe()"
   ]
  },
  {
   "cell_type": "code",
   "execution_count": 7,
   "metadata": {},
   "outputs": [
    {
     "data": {
      "text/plain": [
       "DataFrame[summary: string, date: string, final_post: string, from_id: string, id: string, is_pinned: string, key: string, owner_id: string, post_type: string, signer_id: string, text: string, unavailable: string]"
      ]
     },
     "execution_count": 7,
     "metadata": {},
     "output_type": "execute_result"
    }
   ],
   "source": [
    "followers_posts_df = sqlContext.read.json(followers_posts)\n",
    "followers_posts_df.describe()"
   ]
  },
  {
   "cell_type": "code",
   "execution_count": 8,
   "metadata": {
    "scrolled": false
   },
   "outputs": [
    {
     "name": "stdout",
     "output_type": "stream",
     "text": [
      "+---------+-----+\n",
      "| owner_id|count|\n",
      "+---------+-----+\n",
      "|  2547211|40204|\n",
      "|357231922|26715|\n",
      "|168543860|18853|\n",
      "| 50348231|11906|\n",
      "| 25646344|11122|\n",
      "|     null| 9858|\n",
      "|176861294| 9033|\n",
      "|141687240| 8808|\n",
      "|445159771| 8704|\n",
      "|143207077| 8471|\n",
      "|194073434| 8146|\n",
      "|    29840| 7293|\n",
      "|524656784| 7263|\n",
      "|459339006| 6814|\n",
      "|514384760| 6578|\n",
      "|483715951| 6140|\n",
      "|412181460| 5813|\n",
      "|461319529| 5724|\n",
      "|451211328| 5651|\n",
      "|426396104| 5545|\n",
      "+---------+-----+\n",
      "\n"
     ]
    }
   ],
   "source": [
    "followers_posts_df.groupby('owner_id').count().orderBy(col('count').desc()).limit(20).show()"
   ]
  },
  {
   "cell_type": "markdown",
   "metadata": {},
   "source": [
    "<h3>Get posts and reposts</h3>"
   ]
  },
  {
   "cell_type": "markdown",
   "metadata": {},
   "source": [
    "<h5>Split the field \"copy history\" into several lines</h5>"
   ]
  },
  {
   "cell_type": "code",
   "execution_count": 10,
   "metadata": {},
   "outputs": [],
   "source": [
    "df_exploded = followers_posts_df.withColumn('copy_history', explode('copy_history'))"
   ]
  },
  {
   "cell_type": "markdown",
   "metadata": {},
   "source": [
    "<h5>Get reposts only from the ITMO group</h5>"
   ]
  },
  {
   "cell_type": "code",
   "execution_count": 11,
   "metadata": {},
   "outputs": [],
   "source": [
    "_filtered = df_exploded.filter(df_exploded.copy_history.owner_id == '-94')\n",
    "_selected = _filtered.select(_filtered.copy_history.id.alias(\"group_post_id\"), _filtered.id.alias(\"user_post_id\"))\n",
    "_selected = _selected.sort('copy_history.id')"
   ]
  },
  {
   "cell_type": "code",
   "execution_count": 12,
   "metadata": {},
   "outputs": [
    {
     "name": "stdout",
     "output_type": "stream",
     "text": [
      "+-------------+------------+\n",
      "|group_post_id|user_post_id|\n",
      "+-------------+------------+\n",
      "|        38730|        9523|\n",
      "|        38730|        8187|\n",
      "|        38730|        2590|\n",
      "|        38738|        8188|\n",
      "|        38740|       31900|\n",
      "|        38740|        9561|\n",
      "|        38740|        2649|\n",
      "|        38740|        1060|\n",
      "|        38740|        9496|\n",
      "|        38740|        1133|\n",
      "|        38740|        8186|\n",
      "|        38740|         185|\n",
      "|        38748|        9574|\n",
      "|        38751|        8054|\n",
      "|        38754|       10318|\n",
      "|        38755|         303|\n",
      "|        38764|        5076|\n",
      "|        38767|         778|\n",
      "|        38767|         364|\n",
      "|        38791|         622|\n",
      "+-------------+------------+\n",
      "only showing top 20 rows\n",
      "\n"
     ]
    }
   ],
   "source": [
    "_selected.show()"
   ]
  },
  {
   "cell_type": "markdown",
   "metadata": {},
   "source": [
    "<h5>Group reposts by post_id</h5>"
   ]
  },
  {
   "cell_type": "code",
   "execution_count": 13,
   "metadata": {},
   "outputs": [],
   "source": [
    "from pyspark.sql.functions import col, isnan, when, trim, sort_array, collect_list\n",
    "answer = _selected.groupby(\"group_post_id\").agg(collect_list(\"user_post_id\")).sort('group_post_id')"
   ]
  },
  {
   "cell_type": "code",
   "execution_count": 14,
   "metadata": {},
   "outputs": [
    {
     "name": "stdout",
     "output_type": "stream",
     "text": [
      "+-------------+--------------------------+\n",
      "|group_post_id|collect_list(user_post_id)|\n",
      "+-------------+--------------------------+\n",
      "|        38730|        [9523, 2590, 8187]|\n",
      "|        38738|                    [8188]|\n",
      "|        38740|      [1060, 31900, 113...|\n",
      "|        38748|                    [9574]|\n",
      "|        38751|                    [8054]|\n",
      "|        38754|                   [10318]|\n",
      "|        38755|                     [303]|\n",
      "|        38764|                    [5076]|\n",
      "|        38767|                [778, 364]|\n",
      "|        38791|                     [622]|\n",
      "|        38814|                    [9678]|\n",
      "|        38818|                    [9664]|\n",
      "|        38823|                    [3512]|\n",
      "|        38847|              [3373, 9697]|\n",
      "|        38854|                    [2613]|\n",
      "|        38857|                    [2618]|\n",
      "|        38858|                    [2620]|\n",
      "|        38859|                    [2633]|\n",
      "|        38862|                    [2642]|\n",
      "|        38867|              [2644, 2914]|\n",
      "+-------------+--------------------------+\n",
      "only showing top 20 rows\n",
      "\n"
     ]
    }
   ],
   "source": [
    "answer.show()"
   ]
  },
  {
   "cell_type": "markdown",
   "metadata": {},
   "source": [
    "<h5>Save answer</h5>"
   ]
  },
  {
   "cell_type": "code",
   "execution_count": 15,
   "metadata": {},
   "outputs": [],
   "source": [
    "answer_json = answer.toPandas().to_json()\n",
    "with open('task3_followers_reposts.json', 'w') as f:\n",
    "    f.write(answer_json)"
   ]
  },
  {
   "cell_type": "code",
   "execution_count": null,
   "metadata": {},
   "outputs": [],
   "source": []
  }
 ],
 "metadata": {
  "kernelspec": {
   "display_name": "Python 3",
   "language": "python",
   "name": "python3"
  },
  "language_info": {
   "codemirror_mode": {
    "name": "ipython",
    "version": 3
   },
   "file_extension": ".py",
   "mimetype": "text/x-python",
   "name": "python",
   "nbconvert_exporter": "python",
   "pygments_lexer": "ipython3",
   "version": "3.7.6"
  }
 },
 "nbformat": 4,
 "nbformat_minor": 4
}
