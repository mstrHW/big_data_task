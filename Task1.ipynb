{
 "cells": [
  {
   "cell_type": "markdown",
   "metadata": {},
   "source": [
    "<h3>Define dataset path</h3>"
   ]
  },
  {
   "cell_type": "code",
   "execution_count": 2,
   "metadata": {},
   "outputs": [],
   "source": [
    "import os\n",
    "\n",
    "big_data_dir = 'D://Datasets/bigdata20/bigdata20'\n",
    "followers = os.path.join(big_data_dir, 'followers.parquet')\n",
    "followers_posts = os.path.join(big_data_dir, 'followers_posts_api_final.json')\n",
    "followers_posts_likes = os.path.join(big_data_dir, 'followers_posts_likes.parquet')\n",
    "posts = os.path.join(big_data_dir, 'posts_api.json')\n",
    "posts_likes = os.path.join(big_data_dir, 'posts_likes.parquet')"
   ]
  },
  {
   "cell_type": "markdown",
   "metadata": {},
   "source": [
    "<h3>Spark initialization</h3>"
   ]
  },
  {
   "cell_type": "code",
   "execution_count": 1,
   "metadata": {},
   "outputs": [],
   "source": [
    "import pyspark\n",
    "from pyspark import SparkContext, SparkConf\n",
    "from pyspark.sql import SparkSession, SQLContext\n",
    "\n",
    "conf = SparkConf().setAppName('appName').setMaster('local')\n",
    "sc = SparkContext(conf=conf)\n",
    "spark = SparkSession(sc)\n",
    "sqlContext = SQLContext(sc)"
   ]
  },
  {
   "cell_type": "code",
   "execution_count": 3,
   "metadata": {},
   "outputs": [],
   "source": [
    "from pyspark.sql.functions import col, isnan, when, trim, sort_array, explode"
   ]
  },
  {
   "cell_type": "markdown",
   "metadata": {},
   "source": [
    "<h3>Load dataset</h3>"
   ]
  },
  {
   "cell_type": "code",
   "execution_count": 4,
   "metadata": {},
   "outputs": [
    {
     "data": {
      "text/plain": [
       "DataFrame[summary: string, date: string, from_id: string, id: string, key: string, marked_as_ads: string, owner_id: string, post_type: string, signer_id: string, text: string, unavailable: string]"
      ]
     },
     "execution_count": 4,
     "metadata": {},
     "output_type": "execute_result"
    }
   ],
   "source": [
    "posts_df = sqlContext.read.json(posts)\n",
    "posts_df.describe()"
   ]
  },
  {
   "cell_type": "code",
   "execution_count": 1,
   "metadata": {},
   "outputs": [],
   "source": [
    "# posts_df.printSchema()"
   ]
  },
  {
   "cell_type": "code",
   "execution_count": 8,
   "metadata": {},
   "outputs": [
    {
     "data": {
      "text/plain": [
       "DataFrame[summary: string, date: string, final_post: string, from_id: string, id: string, is_pinned: string, key: string, owner_id: string, post_type: string, signer_id: string, text: string, unavailable: string]"
      ]
     },
     "execution_count": 8,
     "metadata": {},
     "output_type": "execute_result"
    }
   ],
   "source": [
    "followers_posts_df = sqlContext.read.json(followers_posts)\n",
    "followers_posts_df.describe()"
   ]
  },
  {
   "cell_type": "markdown",
   "metadata": {},
   "source": [
    "<h3>Get top posts</h3>"
   ]
  },
  {
   "cell_type": "code",
   "execution_count": 6,
   "metadata": {},
   "outputs": [],
   "source": [
    "def get_top_posts(posts_df, prefix):\n",
    "    print('before drop nans: {}'.format(posts_df.count()))\n",
    "    posts_df = posts_df.na.drop(subset=[\"date\"])\n",
    "    print('after drop nans: {}'.format(posts_df.count()))\n",
    "\n",
    "    for column, file_postfix in [('like', 'liked'), ('repost', 'reposted'), ('comment', 'commented')]:\n",
    "        answer = posts_df.orderBy(posts_df[column + 's'].desc(), asc=False).limit(20).toPandas()\n",
    "        answer_json = answer.to_json()\n",
    "        with open('{}_top_{}.json'.format(prefix, file_postfix), 'w') as f:\n",
    "            f.write(answer_json)"
   ]
  },
  {
   "cell_type": "code",
   "execution_count": 7,
   "metadata": {},
   "outputs": [
    {
     "name": "stdout",
     "output_type": "stream",
     "text": [
      "before drop nans: 18430\n",
      "after drop nans: 12988\n"
     ]
    }
   ],
   "source": [
    "get_top_posts(posts_df, 'task1_posts')"
   ]
  },
  {
   "cell_type": "code",
   "execution_count": 9,
   "metadata": {},
   "outputs": [
    {
     "name": "stdout",
     "output_type": "stream",
     "text": [
      "before drop nans: 816961\n",
      "after drop nans: 807103\n"
     ]
    }
   ],
   "source": [
    "get_top_posts(followers_posts_df, 'task1_followers_posts')"
   ]
  },
  {
   "cell_type": "code",
   "execution_count": null,
   "metadata": {},
   "outputs": [],
   "source": []
  }
 ],
 "metadata": {
  "kernelspec": {
   "display_name": "Python 3",
   "language": "python",
   "name": "python3"
  },
  "language_info": {
   "codemirror_mode": {
    "name": "ipython",
    "version": 3
   },
   "file_extension": ".py",
   "mimetype": "text/x-python",
   "name": "python",
   "nbconvert_exporter": "python",
   "pygments_lexer": "ipython3",
   "version": "3.7.6"
  }
 },
 "nbformat": 4,
 "nbformat_minor": 4
}
