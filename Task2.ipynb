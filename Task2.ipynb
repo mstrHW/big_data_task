{
 "cells": [
  {
   "cell_type": "markdown",
   "metadata": {},
   "source": [
    "<h3>Define dataset path</h3>"
   ]
  },
  {
   "cell_type": "code",
   "execution_count": 1,
   "metadata": {},
   "outputs": [],
   "source": [
    "import os\n",
    "\n",
    "big_data_dir = 'D://Datasets/bigdata20/bigdata20'\n",
    "followers = os.path.join(big_data_dir, 'followers.parquet')\n",
    "followers_posts = os.path.join(big_data_dir, 'followers_posts_api_final.json')\n",
    "followers_posts_likes = os.path.join(big_data_dir, 'followers_posts_likes.parquet')\n",
    "posts = os.path.join(big_data_dir, 'posts_api.json')\n",
    "posts_likes = os.path.join(big_data_dir, 'posts_likes.parquet')"
   ]
  },
  {
   "cell_type": "markdown",
   "metadata": {},
   "source": [
    "<h3>Spark initialization</h3>"
   ]
  },
  {
   "cell_type": "code",
   "execution_count": 2,
   "metadata": {},
   "outputs": [],
   "source": [
    "import pyspark\n",
    "from pyspark import SparkContext, SparkConf\n",
    "from pyspark.sql import SparkSession, SQLContext\n",
    "\n",
    "conf = SparkConf().setAppName('appName').setMaster('local')\n",
    "sc = SparkContext(conf=conf)\n",
    "spark = SparkSession(sc)\n",
    "sqlContext = SQLContext(sc)"
   ]
  },
  {
   "cell_type": "code",
   "execution_count": 3,
   "metadata": {},
   "outputs": [],
   "source": [
    "from pyspark.sql.functions import col, isnan, when, trim, sort_array, explode"
   ]
  },
  {
   "cell_type": "markdown",
   "metadata": {},
   "source": [
    "<h3>Load dataset</h3>"
   ]
  },
  {
   "cell_type": "code",
   "execution_count": 4,
   "metadata": {},
   "outputs": [
    {
     "data": {
      "text/plain": [
       "DataFrame[summary: string, date: string, from_id: string, id: string, key: string, marked_as_ads: string, owner_id: string, post_type: string, signer_id: string, text: string, unavailable: string]"
      ]
     },
     "execution_count": 4,
     "metadata": {},
     "output_type": "execute_result"
    }
   ],
   "source": [
    "posts_df = sqlContext.read.json(posts)\n",
    "posts_df.describe()"
   ]
  },
  {
   "cell_type": "code",
   "execution_count": 5,
   "metadata": {},
   "outputs": [
    {
     "data": {
      "text/plain": [
       "Row(itemType='post', ownerId=-94, itemId=13499, likerId=2070090)"
      ]
     },
     "execution_count": 5,
     "metadata": {},
     "output_type": "execute_result"
    }
   ],
   "source": [
    "posts_likes_df = spark.read.load(posts_likes)\n",
    "posts_likes_df.first()"
   ]
  },
  {
   "cell_type": "code",
   "execution_count": 6,
   "metadata": {},
   "outputs": [],
   "source": [
    "followers_posts_df = sqlContext.read.json(followers_posts)"
   ]
  },
  {
   "cell_type": "markdown",
   "metadata": {},
   "source": [
    "<h3>Get top followers</h3>"
   ]
  },
  {
   "cell_type": "markdown",
   "metadata": {},
   "source": [
    "<h5>Sort by likes</h5>"
   ]
  },
  {
   "cell_type": "code",
   "execution_count": 7,
   "metadata": {},
   "outputs": [
    {
     "name": "stdout",
     "output_type": "stream",
     "text": [
      "+---------+-----+\n",
      "|  likerId|count|\n",
      "+---------+-----+\n",
      "|  2070090| 4801|\n",
      "|  2397858| 2055|\n",
      "|  1475301| 1829|\n",
      "|    18239| 1569|\n",
      "|   546612| 1245|\n",
      "|     6371|  907|\n",
      "|  1841959|  746|\n",
      "| 78440957|  709|\n",
      "|   120248|  699|\n",
      "| 40981497|  611|\n",
      "|    22158|  553|\n",
      "|207628162|  548|\n",
      "|329377723|  504|\n",
      "| 76071304|  474|\n",
      "| 14805173|  440|\n",
      "|   317799|  385|\n",
      "| 56355640|  375|\n",
      "| 52042971|  338|\n",
      "|  7437271|  336|\n",
      "|136506644|  335|\n",
      "+---------+-----+\n",
      "\n"
     ]
    }
   ],
   "source": [
    "likes_count = posts_likes_df.groupby('likerId').count()\n",
    "answer = likes_count.orderBy(col('count').desc(), asc=False).limit(20)\n",
    "answer.show()\n",
    "answer_json = answer.toPandas().to_json()\n",
    "with open('task2_top_followers_by_likes.json', 'w') as f:\n",
    "    f.write(answer_json)"
   ]
  },
  {
   "cell_type": "markdown",
   "metadata": {},
   "source": [
    "<h5>Sort by reposts</h5>"
   ]
  },
  {
   "cell_type": "code",
   "execution_count": 8,
   "metadata": {},
   "outputs": [
    {
     "name": "stdout",
     "output_type": "stream",
     "text": [
      "+---------+-----+\n",
      "| owner_id|count|\n",
      "+---------+-----+\n",
      "|180907432|   48|\n",
      "|   317799|   16|\n",
      "|  4068532|   13|\n",
      "|  2547211|    9|\n",
      "|484122052|    8|\n",
      "|268247082|    5|\n",
      "|  1077823|    5|\n",
      "|  2070090|    5|\n",
      "|281951154|    5|\n",
      "|217400123|    4|\n",
      "|172808182|    4|\n",
      "|  1533614|    4|\n",
      "| 44361144|    4|\n",
      "|527580876|    4|\n",
      "|157728618|    4|\n",
      "| 18467645|    4|\n",
      "|168543860|    4|\n",
      "|   256973|    3|\n",
      "|    86002|    3|\n",
      "|113773552|    3|\n",
      "+---------+-----+\n",
      "\n"
     ]
    }
   ],
   "source": [
    "df_exploded = followers_posts_df.withColumn('copy_history', explode('copy_history'))\n",
    "answer = df_exploded.filter(df_exploded.copy_history.owner_id == '-94').groupby('owner_id').count().sort('count', ascending=False).limit(20)\n",
    "answer.show()\n",
    "answer_json = answer.toPandas().to_json()"
   ]
  },
  {
   "cell_type": "markdown",
   "metadata": {},
   "source": [
    "<h5>Save answer</h5>"
   ]
  },
  {
   "cell_type": "code",
   "execution_count": 9,
   "metadata": {},
   "outputs": [],
   "source": [
    "with open('task2_top_followers_by_reposts.json', 'w') as f:\n",
    "    f.write(answer_json)"
   ]
  },
  {
   "cell_type": "code",
   "execution_count": null,
   "metadata": {},
   "outputs": [],
   "source": []
  }
 ],
 "metadata": {
  "kernelspec": {
   "display_name": "Python 3",
   "language": "python",
   "name": "python3"
  },
  "language_info": {
   "codemirror_mode": {
    "name": "ipython",
    "version": 3
   },
   "file_extension": ".py",
   "mimetype": "text/x-python",
   "name": "python",
   "nbconvert_exporter": "python",
   "pygments_lexer": "ipython3",
   "version": "3.7.6"
  }
 },
 "nbformat": 4,
 "nbformat_minor": 4
}
