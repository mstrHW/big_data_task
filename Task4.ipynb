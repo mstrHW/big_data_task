{
 "cells": [
  {
   "cell_type": "markdown",
   "metadata": {},
   "source": [
    "<h3>Define dataset path</h3>"
   ]
  },
  {
   "cell_type": "code",
   "execution_count": 5,
   "metadata": {},
   "outputs": [],
   "source": [
    "import os\n",
    "\n",
    "big_data_dir = 'D://Datasets/bigdata20/bigdata20'\n",
    "followers = os.path.join(big_data_dir, 'followers.parquet')\n",
    "followers_posts = os.path.join(big_data_dir, 'followers_posts_api_final.json')\n",
    "followers_posts_likes = os.path.join(big_data_dir, 'followers_posts_likes.parquet')\n",
    "posts = os.path.join(big_data_dir, 'posts_api.json')\n",
    "posts_likes = os.path.join(big_data_dir, 'posts_likes.parquet')"
   ]
  },
  {
   "cell_type": "markdown",
   "metadata": {},
   "source": [
    "<h3>Spark initialization</h3>"
   ]
  },
  {
   "cell_type": "code",
   "execution_count": 6,
   "metadata": {},
   "outputs": [],
   "source": [
    "import pyspark\n",
    "from pyspark import SparkContext, SparkConf\n",
    "from pyspark.sql import SparkSession, SQLContext\n",
    "\n",
    "conf = SparkConf().setAppName('appName').setMaster('local')\n",
    "sc = SparkContext(conf=conf)\n",
    "spark = SparkSession(sc)\n",
    "sqlContext = SQLContext(sc)"
   ]
  },
  {
   "cell_type": "code",
   "execution_count": 13,
   "metadata": {},
   "outputs": [],
   "source": [
    "from pyspark.sql.functions import col, isnan, when, trim, sort_array, explode"
   ]
  },
  {
   "cell_type": "markdown",
   "metadata": {},
   "source": [
    "<h3>Define emojis</h3>"
   ]
  },
  {
   "cell_type": "markdown",
   "metadata": {},
   "source": [
    "It use emoji library and csv file with classified emojis\n",
    "(page: https://www.kaggle.com/thomasseleck/emoji-sentiment-data#Emoji_Sentiment_Data_v1.0.csv)"
   ]
  },
  {
   "cell_type": "code",
   "execution_count": 7,
   "metadata": {},
   "outputs": [],
   "source": [
    "import emoji\n",
    "from pyspark.sql.functions import udf\n",
    "from pyspark.sql.types import StringType, ArrayType\n",
    "import pandas as pd\n",
    "\n",
    "emojis_df = pd.read_csv('emoji_sentiment.csv')\n",
    "emojis_df['Sentiment'] = emojis_df[['Negative', 'Neutral', 'Positive']].idxmax(axis=1)\n",
    "emojis_df['unicode_emoji'] = [chr(int(emoji, 16)) for emoji in emojis_df['Unicode codepoint'].tolist()]\n",
    "positive_emojis = emojis_df[emojis_df['Sentiment'] == 'Positive']['unicode_emoji'].values.tolist()\n",
    "negative_emojis = emojis_df[emojis_df['Sentiment'] == 'Negative']['unicode_emoji'].values.tolist()\n",
    "# neutral_emojis = emojis_df[emojis_df['Sentiment'] == 'Neutral']\n",
    "\n",
    "unicode_positive_emojis = {}\n",
    "unicode_negative_emojis = {}\n",
    "unicode_neutral_emojis = {}\n",
    "for key, value in emoji.UNICODE_EMOJI.items():\n",
    "    if key in positive_emojis:\n",
    "        unicode_positive_emojis[key] = value\n",
    "    elif key in negative_emojis:\n",
    "        unicode_negative_emojis[key] = value\n",
    "    else:\n",
    "        unicode_neutral_emojis[key] = value"
   ]
  },
  {
   "cell_type": "markdown",
   "metadata": {},
   "source": [
    "<h3>Udf functions for extracting emojis (without brodcasing)</h3>"
   ]
  },
  {
   "cell_type": "code",
   "execution_count": 8,
   "metadata": {},
   "outputs": [],
   "source": [
    "def extract_positive_emojis(_str):\n",
    "    return ''.join(c for c in _str if c in unicode_positive_emojis)\n",
    "\n",
    "def extract_negative_emojis(_str):\n",
    "    return ''.join(c for c in _str if c in unicode_negative_emojis)\n",
    "\n",
    "def extract_neutral_emojis(_str):\n",
    "    return ''.join(c for c in _str if c in unicode_neutral_emojis)\n",
    "\n",
    "extract_positive_emojis_udf = udf(lambda _str: extract_positive_emojis(_str), StringType())\n",
    "extract_negative_emojis_udf = udf(lambda _str: extract_negative_emojis(_str), StringType())\n",
    "extract_neutral_emojis_udf = udf(lambda _str: extract_neutral_emojis(_str), StringType())"
   ]
  },
  {
   "cell_type": "code",
   "execution_count": 9,
   "metadata": {},
   "outputs": [
    {
     "name": "stdout",
     "output_type": "stream",
     "text": [
      "😍😂😍\n"
     ]
    }
   ],
   "source": [
    "print(extract_positive_emojis('t😍est😂test😍'))"
   ]
  },
  {
   "cell_type": "markdown",
   "metadata": {},
   "source": [
    "<h3>Udf functions for extracting emojis (with brodcasing)</h3>"
   ]
  },
  {
   "cell_type": "code",
   "execution_count": 10,
   "metadata": {},
   "outputs": [],
   "source": [
    "def extract_emojis(_str, emojis_list):\n",
    "    return ''.join(c for c in _str if c in emojis_list)\n",
    "\n",
    "def udf_extract_emojis(emojis_list):\n",
    "    return udf(lambda x : extract_emojis(x, emojis_list))\n",
    "\n",
    "\n",
    "b_positive_emojis = sc.broadcast(sc.parallelize(unicode_positive_emojis).collect())\n",
    "b_negative_emojis = sc.broadcast(sc.parallelize(unicode_negative_emojis).collect())\n",
    "b_neutral_emojis = sc.broadcast(sc.parallelize(unicode_neutral_emojis).collect())\n",
    "b_emojis = sc.broadcast(sc.parallelize(emoji.UNICODE_EMOJI).collect())"
   ]
  },
  {
   "cell_type": "markdown",
   "metadata": {},
   "source": [
    "<h3>Load dataset</h3>"
   ]
  },
  {
   "cell_type": "code",
   "execution_count": 14,
   "metadata": {},
   "outputs": [],
   "source": [
    "posts_df = sqlContext.read.json(posts)"
   ]
  },
  {
   "cell_type": "code",
   "execution_count": 15,
   "metadata": {},
   "outputs": [
    {
     "name": "stdout",
     "output_type": "stream",
     "text": [
      "+-------------+\n",
      "|     comments|\n",
      "+-------------+\n",
      "| [1, 0, true]|\n",
      "| [1, 0, true]|\n",
      "| [1, 0, true]|\n",
      "| [1, 0, true]|\n",
      "| [1, 2, true]|\n",
      "| [1, 3, true]|\n",
      "|[1, 27, true]|\n",
      "| [1, 0, true]|\n",
      "|[1, 23, true]|\n",
      "| [1, 0, true]|\n",
      "| [1, 0, true]|\n",
      "| [1, 0, true]|\n",
      "| [1, 0, true]|\n",
      "| [1, 0, true]|\n",
      "| [1, 0, true]|\n",
      "| [1, 0, true]|\n",
      "| [1, 0, true]|\n",
      "| [1, 1, true]|\n",
      "| [1, 0, true]|\n",
      "| [1, 1, true]|\n",
      "+-------------+\n",
      "only showing top 20 rows\n",
      "\n"
     ]
    }
   ],
   "source": [
    "posts_df.select('comments').show()"
   ]
  },
  {
   "cell_type": "markdown",
   "metadata": {},
   "source": [
    "<h3>Add columns with smiles</h3>"
   ]
  },
  {
   "cell_type": "code",
   "execution_count": 16,
   "metadata": {},
   "outputs": [],
   "source": [
    "processed_df = posts_df.filter(posts_df.text != '')\n",
    "processed_df = processed_df.withColumn('positive_emojis', udf_extract_emojis(b_positive_emojis.value)(col('text')))\n",
    "processed_df = processed_df.withColumn('negative_emojis', udf_extract_emojis(b_negative_emojis.value)(col('text')))\n",
    "processed_df = processed_df.withColumn('neutral_emojis', udf_extract_emojis(b_neutral_emojis.value)(col('text')))\n",
    "processed_df = processed_df.select('id', 'text', 'positive_emojis', 'negative_emojis', 'neutral_emojis')"
   ]
  },
  {
   "cell_type": "markdown",
   "metadata": {},
   "source": [
    "<h3>Get only posts with emojis</h3>"
   ]
  },
  {
   "cell_type": "code",
   "execution_count": 17,
   "metadata": {},
   "outputs": [
    {
     "data": {
      "text/plain": [
       "739"
      ]
     },
     "execution_count": 17,
     "metadata": {},
     "output_type": "execute_result"
    }
   ],
   "source": [
    "with_emojis_df = processed_df.filter((processed_df.positive_emojis != '') | (processed_df.negative_emojis != '') | (processed_df.neutral_emojis != ''))\n",
    "with_emojis_df.count()"
   ]
  },
  {
   "cell_type": "code",
   "execution_count": 18,
   "metadata": {},
   "outputs": [
    {
     "name": "stdout",
     "output_type": "stream",
     "text": [
      "+-----+--------------------+---------------+---------------+--------------+\n",
      "|   id|                text|positive_emojis|negative_emojis|neutral_emojis|\n",
      "+-----+--------------------+---------------+---------------+--------------+\n",
      "|17381|🎄Университет ИТМ...|           🎄🎄|               |              |\n",
      "|42270|Фото на фоне Глав...|               |               |            📸|\n",
      "|42273|⚡️Университет ИТМ...|               |               |             ⚡|\n",
      "|42281|Акселератор Униве...|             🚀|               |              |\n",
      "|42292|По-настоящему вол...|               |               |            🔮|\n",
      "|42298|Первокурсники бак...|             🚀|               |              |\n",
      "|42302|🏕 Без лишних сло...|               |               |            🏕|\n",
      "|42313|20 сентября в Уни...|             💫|               |              |\n",
      "|42315|Сегодня 256-й по ...|              ♥|               |              |\n",
      "|42316|🔥 Держи актуальн...|               |               |            🔥|\n",
      "|42321|Экватор сентября ...|             🚀|               |              |\n",
      "|42324|Отличные новости:...|               |               |            🔥|\n",
      "|42328|Осенняя велопрогу...|               |               |          🚲🧡|\n",
      "|42334|Встречайте счастл...|             💙|               |              |\n",
      "|42345|Сегодня была по-н...|             💙|               |              |\n",
      "|42347|И еще немного фот...|               |               |            📸|\n",
      "|42177|Университету ИТМО...|              ❤|               |              |\n",
      "|42180| Все на МЕГАКАВЕР 🎤|             🎤|               |              |\n",
      "|42186|Так мы провели по...|              ☀|               |              |\n",
      "|42188|Лови фото с INTRO...|              ❤|               |              |\n",
      "+-----+--------------------+---------------+---------------+--------------+\n",
      "only showing top 20 rows\n",
      "\n"
     ]
    }
   ],
   "source": [
    "with_emojis_df.show()"
   ]
  },
  {
   "cell_type": "markdown",
   "metadata": {},
   "source": [
    "<h3>Save answer</h3>"
   ]
  },
  {
   "cell_type": "code",
   "execution_count": 19,
   "metadata": {},
   "outputs": [],
   "source": [
    "answer_json = with_emojis_df.toPandas().to_json()\n",
    "with open('task4_posts_emojis.json', 'w') as f:\n",
    "    f.write(answer_json)"
   ]
  },
  {
   "cell_type": "code",
   "execution_count": null,
   "metadata": {},
   "outputs": [],
   "source": []
  }
 ],
 "metadata": {
  "kernelspec": {
   "display_name": "Python 3",
   "language": "python",
   "name": "python3"
  },
  "language_info": {
   "codemirror_mode": {
    "name": "ipython",
    "version": 3
   },
   "file_extension": ".py",
   "mimetype": "text/x-python",
   "name": "python",
   "nbconvert_exporter": "python",
   "pygments_lexer": "ipython3",
   "version": "3.7.6"
  }
 },
 "nbformat": 4,
 "nbformat_minor": 4
}
